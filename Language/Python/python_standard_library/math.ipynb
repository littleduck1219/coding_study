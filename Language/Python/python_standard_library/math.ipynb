{
 "cells": [
  {
   "cell_type": "markdown",
   "metadata": {},
   "source": [
    "# math - 수학함수\n",
    "\n",
    "* 복소수의 계산이 필요하면 <strong>cmath</strong> 모듈에 있는 이름의 함수를 사용하십시오.\n",
    "* 달리 명시되지 않는 한 모든 반환 값은 float입니다."
   ]
  },
  {
   "cell_type": "code",
   "execution_count": 2,
   "metadata": {},
   "outputs": [],
   "source": [
    "import math"
   ]
  },
  {
   "cell_type": "code",
   "execution_count": 3,
   "metadata": {},
   "outputs": [
    {
     "data": {
      "text/plain": [
       "13"
      ]
     },
     "execution_count": 3,
     "metadata": {},
     "output_type": "execute_result"
    }
   ],
   "source": [
    "# ceil - 반올림\n",
    "\n",
    "math.ceil(12.4)"
   ]
  },
  {
   "cell_type": "code",
   "execution_count": 4,
   "metadata": {},
   "outputs": [
    {
     "data": {
      "text/plain": [
       "120"
      ]
     },
     "execution_count": 4,
     "metadata": {},
     "output_type": "execute_result"
    }
   ],
   "source": [
    "# comb -반복과 순서 없이 n 개의 항목에서 k 개의 항목을 선택하는 방법의 수를 반환.\n",
    "# math.comb(n,k) \n",
    "# k <= n 일때 n! / (k! * (n - k)!), \n",
    "# k > n 일때 0\n",
    "\n",
    "math.comb(10, 3)\n"
   ]
  },
  {
   "cell_type": "code",
   "execution_count": 5,
   "metadata": {},
   "outputs": [
    {
     "name": "stdout",
     "output_type": "stream",
     "text": [
      "1.0\n",
      "-1.0\n"
     ]
    }
   ],
   "source": [
    "# copysign -x의 크기(절댓값)와 y의 부호를 갖는 float를 반환합니다. 부호 있는 0을 지원하는 플랫폼에서, copysign(1.0, -0.0)은 -1.0을 반환합니다.\n",
    "# x값의 값을 취하고 y값의 부호를 적용.\n",
    "# math.copysign(x, y)\n",
    "a = math.copysign(1, 500)\n",
    "b = math.copysign(1, -500)\n",
    "print(a)\n",
    "print(b)"
   ]
  },
  {
   "cell_type": "code",
   "execution_count": 6,
   "metadata": {},
   "outputs": [
    {
     "data": {
      "text/plain": [
       "12.0"
      ]
     },
     "execution_count": 6,
     "metadata": {},
     "output_type": "execute_result"
    }
   ],
   "source": [
    "# fabs - x의 절대값을 반환.\n",
    "\n",
    "math.fabs(12)"
   ]
  },
  {
   "cell_type": "code",
   "execution_count": 7,
   "metadata": {},
   "outputs": [
    {
     "data": {
      "text/plain": [
       "14"
      ]
     },
     "execution_count": 7,
     "metadata": {},
     "output_type": "execute_result"
    }
   ],
   "source": [
    "# floor - 내림.\n",
    "\n",
    "math.floor(14.8)"
   ]
  },
  {
   "cell_type": "code",
   "execution_count": 10,
   "metadata": {},
   "outputs": [
    {
     "name": "stdout",
     "output_type": "stream",
     "text": [
      "0.5999999999999996\n",
      "0.5999999999999996\n"
     ]
    }
   ],
   "source": [
    "# fmod - 나머지 연산.\n",
    "# 파이썬 연산자중 '%'(나머지연산)과 유사하다. 하지만 연산결과가 항상 동일한것은 아니다. math.fmod(x,y)연산은 항상 피제수 x와 몫으 부호가 동일하지만 '%'연산은 몫이 피제수와 항상 일치하지 않기 때문이다. 또한 부동소수점 연사ㄴ의 정확도차이도 존재하기 때문에,\n",
    "# 일반적으로 정수연산에는 '%'연산을\n",
    "# 부동소수점연산에는 math.fmod()연산을 사용하는것을 권장한다.\n",
    "\n",
    "a = math.fmod(6.6, 6)\n",
    "b = 6.6%6\n",
    "print(a)\n",
    "print(b)"
   ]
  },
  {
   "cell_type": "code",
   "execution_count": 14,
   "metadata": {},
   "outputs": [
    {
     "data": {
      "text/plain": [
       "(0.5, 2)"
      ]
     },
     "execution_count": 14,
     "metadata": {},
     "output_type": "execute_result"
    }
   ],
   "source": [
    "#frexp - \n",
    "\n",
    "math.frexp(2)"
   ]
  },
  {
   "cell_type": "code",
   "execution_count": null,
   "metadata": {},
   "outputs": [],
   "source": []
  }
 ],
 "metadata": {
  "kernelspec": {
   "display_name": "Python 3.9.12 ('base')",
   "language": "python",
   "name": "python3"
  },
  "language_info": {
   "codemirror_mode": {
    "name": "ipython",
    "version": 3
   },
   "file_extension": ".py",
   "mimetype": "text/x-python",
   "name": "python",
   "nbconvert_exporter": "python",
   "pygments_lexer": "ipython3",
   "version": "3.9.12"
  },
  "orig_nbformat": 4,
  "vscode": {
   "interpreter": {
    "hash": "53ef7bdd207552b6da7162dea4211de23da0c26f07854d7886087ce0b84ae931"
   }
  }
 },
 "nbformat": 4,
 "nbformat_minor": 2
}
