{
 "cells": [
  {
   "cell_type": "code",
   "execution_count": 3,
   "metadata": {},
   "outputs": [
    {
     "ename": "NameError",
     "evalue": "name 'p' is not defined",
     "output_type": "error",
     "traceback": [
      "\u001b[0;31m---------------------------------------------------------------------------\u001b[0m",
      "\u001b[0;31mNameError\u001b[0m                                 Traceback (most recent call last)",
      "\u001b[1;32m/Users/littleduck/Documents/Github/Python/Samples/challenge/02.ipynb Cell 1\u001b[0m in \u001b[0;36m<cell line: 4>\u001b[0;34m()\u001b[0m\n\u001b[1;32m      <a href='vscode-notebook-cell:/Users/littleduck/Documents/Github/Python/Samples/challenge/02.ipynb#W0sZmlsZQ%3D%3D?line=1'>2</a>\u001b[0m   \u001b[39mif\u001b[39;00m p \u001b[39m==\u001b[39m \u001b[39m\"\u001b[39m\u001b[39m\"\u001b[39m:\n\u001b[1;32m      <a href='vscode-notebook-cell:/Users/littleduck/Documents/Github/Python/Samples/challenge/02.ipynb#W0sZmlsZQ%3D%3D?line=2'>3</a>\u001b[0m     \u001b[39mreturn\u001b[39;00m \u001b[39m\"\u001b[39m\u001b[39m\"\u001b[39m\n\u001b[0;32m----> <a href='vscode-notebook-cell:/Users/littleduck/Documents/Github/Python/Samples/challenge/02.ipynb#W0sZmlsZQ%3D%3D?line=3'>4</a>\u001b[0m w \u001b[39m=\u001b[39m p\n\u001b[1;32m      <a href='vscode-notebook-cell:/Users/littleduck/Documents/Github/Python/Samples/challenge/02.ipynb#W0sZmlsZQ%3D%3D?line=4'>5</a>\u001b[0m u \u001b[39m=\u001b[39m \u001b[39m\"\u001b[39m\u001b[39m\"\u001b[39m\n\u001b[1;32m      <a href='vscode-notebook-cell:/Users/littleduck/Documents/Github/Python/Samples/challenge/02.ipynb#W0sZmlsZQ%3D%3D?line=5'>6</a>\u001b[0m v \u001b[39m=\u001b[39m \u001b[39m\"\u001b[39m\u001b[39m\"\u001b[39m\n",
      "\u001b[0;31mNameError\u001b[0m: name 'p' is not defined"
     ]
    }
   ],
   "source": [
    "def solution(p):\n",
    "  if p == \"\":\n",
    "    return \"\"\n",
    "w = p\n",
    "u = \"\"\n",
    "v = \"\"\n",
    "sliceW = \"\"\n",
    "print(\"[2][w]\" + w)\n",
    "\n",
    "if __name__ == \"__main__\":\n",
    "  solution(\"()))((()\")"
   ]
  },
  {
   "cell_type": "code",
   "execution_count": 2,
   "metadata": {},
   "outputs": [
    {
     "ename": "NameError",
     "evalue": "name 'p' is not defined",
     "output_type": "error",
     "traceback": [
      "\u001b[0;31m---------------------------------------------------------------------------\u001b[0m",
      "\u001b[0;31mNameError\u001b[0m                                 Traceback (most recent call last)",
      "\u001b[1;32m/Users/littleduck/Documents/Github/Python/Samples/challenge/02.ipynb Cell 2\u001b[0m in \u001b[0;36m<cell line: 1>\u001b[0;34m()\u001b[0m\n\u001b[0;32m----> <a href='vscode-notebook-cell:/Users/littleduck/Documents/Github/Python/Samples/challenge/02.ipynb#W1sZmlsZQ%3D%3D?line=0'>1</a>\u001b[0m w \u001b[39m=\u001b[39m p\n\u001b[1;32m      <a href='vscode-notebook-cell:/Users/littleduck/Documents/Github/Python/Samples/challenge/02.ipynb#W1sZmlsZQ%3D%3D?line=1'>2</a>\u001b[0m u \u001b[39m=\u001b[39m \u001b[39m\"\u001b[39m\u001b[39m\"\u001b[39m\n\u001b[1;32m      <a href='vscode-notebook-cell:/Users/littleduck/Documents/Github/Python/Samples/challenge/02.ipynb#W1sZmlsZQ%3D%3D?line=2'>3</a>\u001b[0m v \u001b[39m=\u001b[39m \u001b[39m\"\u001b[39m\u001b[39m\"\u001b[39m\n",
      "\u001b[0;31mNameError\u001b[0m: name 'p' is not defined"
     ]
    }
   ],
   "source": [
    "w = p\n",
    "u = \"\"\n",
    "v = \"\"\n",
    "sliceW = \"\"\n",
    "print(\"[2][w]\" + w)"
   ]
  },
  {
   "cell_type": "code",
   "execution_count": null,
   "metadata": {},
   "outputs": [],
   "source": []
  }
 ],
 "metadata": {
  "kernelspec": {
   "display_name": "Python 3.9.12 ('base')",
   "language": "python",
   "name": "python3"
  },
  "language_info": {
   "codemirror_mode": {
    "name": "ipython",
    "version": 3
   },
   "file_extension": ".py",
   "mimetype": "text/x-python",
   "name": "python",
   "nbconvert_exporter": "python",
   "pygments_lexer": "ipython3",
   "version": "3.9.12"
  },
  "orig_nbformat": 4,
  "vscode": {
   "interpreter": {
    "hash": "53ef7bdd207552b6da7162dea4211de23da0c26f07854d7886087ce0b84ae931"
   }
  }
 },
 "nbformat": 4,
 "nbformat_minor": 2
}
