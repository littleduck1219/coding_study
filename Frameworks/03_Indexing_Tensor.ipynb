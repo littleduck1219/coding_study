{
 "cells": [
  {
   "cell_type": "code",
   "execution_count": 2,
   "id": "af7a875a",
   "metadata": {},
   "outputs": [],
   "source": [
    "import torch\n",
    "import numpy as np"
   ]
  },
  {
   "cell_type": "markdown",
   "id": "a02a8b53",
   "metadata": {},
   "source": [
    "#### Indexing"
   ]
  },
  {
   "cell_type": "code",
   "execution_count": 3,
   "id": "80c6dbbe",
   "metadata": {},
   "outputs": [
    {
     "name": "stdout",
     "output_type": "stream",
     "text": [
      "tensor([[1., 2., 3.],\n",
      "        [4., 5., 6.]])\n",
      "tensor(5.)\n",
      "tensor([2., 5.])\n",
      "tensor([[1., 2., 3.],\n",
      "        [4., 5., 6.]])\n",
      "tensor([[1., 2., 3.],\n",
      "        [4., 5., 6.]])\n"
     ]
    }
   ],
   "source": [
    "tensor = torch.FloatTensor([[1, 2, 3], [4, 5, 6]])\n",
    "print(tensor)\n",
    "print(tensor[1, 1])\n",
    "print(tensor[:, 1])\n",
    "print(tensor[:, :])\n",
    "print(tensor[:])"
   ]
  },
  {
   "cell_type": "code",
   "execution_count": 4,
   "id": "9b3613ea",
   "metadata": {},
   "outputs": [
    {
     "name": "stdout",
     "output_type": "stream",
     "text": [
      "tensor([[1., 2., 3.],\n",
      "        [4., 5., 6.]])\n",
      "tensor([[1., 2.],\n",
      "        [4., 5.]])\n"
     ]
    }
   ],
   "source": [
    "tensor1 = torch.FloatTensor([[1,2,3],[4,5,6]])\n",
    "print(tensor1)\n",
    "tensor2 = tensor1[:2, :2]\n",
    "print(tensor2)"
   ]
  },
  {
   "cell_type": "code",
   "execution_count": 5,
   "id": "76a52a23",
   "metadata": {},
   "outputs": [
    {
     "name": "stdout",
     "output_type": "stream",
     "text": [
      "tensor([[1., 2., 3.],\n",
      "        [4., 0., 6.]])\n",
      "tensor([[1., 2.],\n",
      "        [4., 0.]])\n"
     ]
    }
   ],
   "source": [
    "tensor2[1, 1] = 0\n",
    "print(tensor1)\n",
    "print(tensor2)"
   ]
  },
  {
   "cell_type": "code",
   "execution_count": 6,
   "id": "8c657b22",
   "metadata": {},
   "outputs": [
    {
     "name": "stdout",
     "output_type": "stream",
     "text": [
      "tensor([[1., 2., 3.],\n",
      "        [4., 5., 6.]])\n",
      "tensor([[1., 2.],\n",
      "        [4., 5.]])\n"
     ]
    }
   ],
   "source": [
    "tensor1 = torch.FloatTensor([[1,2,3],[4,5,6]])\n",
    "print(tensor1)\n",
    "tensor2 = tensor1[:2, :2].clone().detach()\n",
    "print(tensor2)"
   ]
  },
  {
   "cell_type": "code",
   "execution_count": 7,
   "id": "6e04240b",
   "metadata": {},
   "outputs": [
    {
     "name": "stdout",
     "output_type": "stream",
     "text": [
      "tensor([[1., 2., 3.],\n",
      "        [4., 5., 6.]])\n",
      "tensor([[1., 2.],\n",
      "        [4., 0.]])\n"
     ]
    }
   ],
   "source": [
    "tensor2[1, 1] = 0\n",
    "print(tensor1)\n",
    "print(tensor2)"
   ]
  },
  {
   "cell_type": "code",
   "execution_count": 18,
   "id": "764cc5a3",
   "metadata": {},
   "outputs": [
    {
     "name": "stdout",
     "output_type": "stream",
     "text": [
      "(tensor([0, 1]),)\n",
      "tensor([1., 2.])\n"
     ]
    }
   ],
   "source": [
    "tensor1 = torch.FloatTensor([1, 2, 3, 4, 5, 6, 7, 8])\n",
    "index = torch.where(tensor1 < 3)\n",
    "print(index)\n",
    "print(tensor1[index])"
   ]
  },
  {
   "cell_type": "code",
   "execution_count": 20,
   "id": "e63e5b0b",
   "metadata": {},
   "outputs": [
    {
     "name": "stdout",
     "output_type": "stream",
     "text": [
      "tensor([-1, -1, -1,  1,  1,  1,  1,  1])\n"
     ]
    }
   ],
   "source": [
    "tensor2 = torch.where(tensor1 < 4, -1, 1)\n",
    "print(tensor2)"
   ]
  },
  {
   "cell_type": "code",
   "execution_count": 21,
   "id": "bdcf8d09",
   "metadata": {},
   "outputs": [
    {
     "name": "stdout",
     "output_type": "stream",
     "text": [
      "tensor(1.)\n",
      "tensor(6.)\n",
      "tensor(21.)\n",
      "tensor(3.5000)\n",
      "tensor(3.5000)\n",
      "tensor(1.8708)\n",
      "tensor(0)\n",
      "tensor(5)\n"
     ]
    }
   ],
   "source": [
    "tensor = torch.FloatTensor([[1,2,3], [4,5,6]])\n",
    "print(tensor.min())\n",
    "print(tensor.max())\n",
    "print(tensor.sum())\n",
    "print(tensor.mean())\n",
    "print(tensor.var())\n",
    "print(tensor.std())\n",
    "print(tensor.argmin())\n",
    "print(tensor.argmax())"
   ]
  },
  {
   "cell_type": "code",
   "execution_count": 22,
   "id": "845fe7ae",
   "metadata": {},
   "outputs": [
    {
     "name": "stdout",
     "output_type": "stream",
     "text": [
      "tensor([1.0000, 2.3333, 3.6667, 5.0000])\n"
     ]
    }
   ],
   "source": [
    "tensor = torch.linspace(1, 5, 4)\n",
    "print(tensor)"
   ]
  },
  {
   "cell_type": "code",
   "execution_count": 23,
   "id": "ffc34c94",
   "metadata": {},
   "outputs": [],
   "source": [
    "torch.save(tensor, \"my_first_tensor\")"
   ]
  },
  {
   "cell_type": "code",
   "execution_count": 24,
   "id": "a20a7929",
   "metadata": {},
   "outputs": [
    {
     "name": "stdout",
     "output_type": "stream",
     "text": [
      "tensor([1.0000, 2.3333, 3.6667, 5.0000])\n"
     ]
    }
   ],
   "source": [
    "load_tensor = torch.load(\"my_first_tensor\")\n",
    "print(load_tensor)"
   ]
  },
  {
   "cell_type": "code",
   "execution_count": 28,
   "id": "4df7da9f",
   "metadata": {},
   "outputs": [
    {
     "name": "stdout",
     "output_type": "stream",
     "text": [
      "tensor([2.0000, 2.6667, 3.3333, 4.0000])\n",
      "tensor([3.0000, 3.5000, 4.0000, 4.5000, 5.0000])\n",
      "tensor([5.0000, 5.6000, 6.2000, 6.8000, 7.4000, 8.0000])\n"
     ]
    }
   ],
   "source": [
    "tensor1 = torch.linspace(2, 4, 4)\n",
    "tensor2 = torch.linspace(3, 5, 5)\n",
    "tensor3 = torch.linspace(5, 8, 6)\n",
    "print(tensor1)\n",
    "print(tensor2)\n",
    "print(tensor3)\n",
    "tensorsets = {\"data1\": tensor1, \"data2\": tensor2, \"data3\": tensor3}\n",
    "torch.save(tensorsets, \"tensor_datasets\")"
   ]
  },
  {
   "cell_type": "code",
   "execution_count": 27,
   "id": "0e2cc6f5",
   "metadata": {},
   "outputs": [
    {
     "name": "stdout",
     "output_type": "stream",
     "text": [
      "tensor([2.0000, 2.6667, 3.3333, 4.0000])\n",
      "tensor([3.0000, 3.5000, 4.0000, 4.5000, 5.0000])\n",
      "tensor([5.0000, 5.6000, 6.2000, 6.8000, 7.4000, 8.0000])\n"
     ]
    }
   ],
   "source": [
    "datasets = torch.load(\"tensor_datasets\")\n",
    "print(datasets[\"data1\"])\n",
    "print(datasets[\"data2\"])\n",
    "print(datasets[\"data3\"])"
   ]
  },
  {
   "cell_type": "code",
   "execution_count": null,
   "id": "437f7148",
   "metadata": {},
   "outputs": [],
   "source": []
  }
 ],
 "metadata": {
  "kernelspec": {
   "display_name": "Python 3 (ipykernel)",
   "language": "python",
   "name": "python3"
  },
  "language_info": {
   "codemirror_mode": {
    "name": "ipython",
    "version": 3
   },
   "file_extension": ".py",
   "mimetype": "text/x-python",
   "name": "python",
   "nbconvert_exporter": "python",
   "pygments_lexer": "ipython3",
   "version": "3.9.13"
  }
 },
 "nbformat": 4,
 "nbformat_minor": 5
}
