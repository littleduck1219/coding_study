{
 "cells": [
  {
   "cell_type": "code",
   "execution_count": 1,
   "id": "c4b79a2f",
   "metadata": {},
   "outputs": [],
   "source": [
    "import torch"
   ]
  },
  {
   "cell_type": "code",
   "execution_count": 6,
   "id": "780f9faa",
   "metadata": {},
   "outputs": [
    {
     "name": "stdout",
     "output_type": "stream",
     "text": [
      "tensor([2, 2, 2]) 1 torch.Size([3])\n",
      "tensor([3, 3, 3]) 1 torch.Size([3])\n"
     ]
    }
   ],
   "source": [
    "tensor1 = torch.full((3,), 2)\n",
    "tensor2 = torch.full((3,), 3)\n",
    "\n",
    "print(tensor1, tensor1.ndim, tensor1.shape)\n",
    "print(tensor2, tensor2.ndim, tensor2.shape)"
   ]
  },
  {
   "cell_type": "code",
   "execution_count": 7,
   "id": "ff974f6a",
   "metadata": {},
   "outputs": [
    {
     "name": "stdout",
     "output_type": "stream",
     "text": [
      "tensor(18) torch.Size([])\n"
     ]
    }
   ],
   "source": [
    "cal_tensor = torch.matmul(tensor1, tensor2)\n",
    "print(cal_tensor, cal_tensor.shape)"
   ]
  },
  {
   "cell_type": "code",
   "execution_count": null,
   "id": "a96d8dd0",
   "metadata": {},
   "outputs": [],
   "source": []
  }
 ],
 "metadata": {
  "kernelspec": {
   "display_name": "Python 3 (ipykernel)",
   "language": "python",
   "name": "python3"
  },
  "language_info": {
   "codemirror_mode": {
    "name": "ipython",
    "version": 3
   },
   "file_extension": ".py",
   "mimetype": "text/x-python",
   "name": "python",
   "nbconvert_exporter": "python",
   "pygments_lexer": "ipython3",
   "version": "3.9.13"
  }
 },
 "nbformat": 4,
 "nbformat_minor": 5
}
