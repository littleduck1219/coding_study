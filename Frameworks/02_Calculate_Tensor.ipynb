{
 "cells": [
  {
   "cell_type": "code",
   "execution_count": 1,
   "id": "a7d7382b",
   "metadata": {},
   "outputs": [],
   "source": [
    "import torch\n",
    "import numpy as np"
   ]
  },
  {
   "cell_type": "code",
   "execution_count": 3,
   "id": "d3975122",
   "metadata": {},
   "outputs": [
    {
     "name": "stdout",
     "output_type": "stream",
     "text": [
      "tensor([[4, 4, 4],\n",
      "        [4, 4, 4],\n",
      "        [4, 4, 4]])\n",
      "tensor([[2, 2, 2],\n",
      "        [2, 2, 2],\n",
      "        [2, 2, 2]])\n"
     ]
    }
   ],
   "source": [
    "tensor1 = torch.full((3, 3), 4)\n",
    "tensor2 = torch.full((3, 3), 2)\n",
    "print(tensor1)\n",
    "print(tensor2)"
   ]
  },
  {
   "cell_type": "code",
   "execution_count": 6,
   "id": "6325412b",
   "metadata": {},
   "outputs": [
    {
     "name": "stdout",
     "output_type": "stream",
     "text": [
      "tensor([[6, 6, 6],\n",
      "        [6, 6, 6],\n",
      "        [6, 6, 6]])\n",
      "tensor([[2, 2, 2],\n",
      "        [2, 2, 2],\n",
      "        [2, 2, 2]])\n",
      "tensor([[8, 8, 8],\n",
      "        [8, 8, 8],\n",
      "        [8, 8, 8]])\n",
      "tensor([[2., 2., 2.],\n",
      "        [2., 2., 2.],\n",
      "        [2., 2., 2.]])\n"
     ]
    }
   ],
   "source": [
    "print(tensor1 + tensor2)\n",
    "print(tensor1 - tensor2)\n",
    "print(tensor1 * tensor2)\n",
    "print(tensor1 / tensor2)"
   ]
  },
  {
   "cell_type": "code",
   "execution_count": 7,
   "id": "5014ccf4",
   "metadata": {},
   "outputs": [
    {
     "data": {
      "text/plain": [
       "tensor([[24, 24, 24],\n",
       "        [24, 24, 24],\n",
       "        [24, 24, 24]])"
      ]
     },
     "execution_count": 7,
     "metadata": {},
     "output_type": "execute_result"
    }
   ],
   "source": [
    "torch.matmul(tensor1, tensor2)"
   ]
  },
  {
   "cell_type": "code",
   "execution_count": 8,
   "id": "b67c23d8",
   "metadata": {},
   "outputs": [
    {
     "data": {
      "text/plain": [
       "tensor([[16, 16, 16],\n",
       "        [16, 16, 16],\n",
       "        [16, 16, 16],\n",
       "        [16, 16, 16]])"
      ]
     },
     "execution_count": 8,
     "metadata": {},
     "output_type": "execute_result"
    }
   ],
   "source": [
    "tensor1 = torch.full((4, 2), 4)\n",
    "tensor2 = torch.full((2, 3), 2)\n",
    "torch.matmul(tensor1, tensor2)"
   ]
  },
  {
   "cell_type": "markdown",
   "id": "749e8679",
   "metadata": {},
   "source": [
    "broadcasting"
   ]
  },
  {
   "cell_type": "code",
   "execution_count": 27,
   "id": "e597ba3b",
   "metadata": {},
   "outputs": [
    {
     "name": "stdout",
     "output_type": "stream",
     "text": [
      "torch.Size([10, 20, 4]) torch.Size([10, 1, 4]) torch.Size([10, 20, 4])\n"
     ]
    }
   ],
   "source": [
    "tensor1 = torch.FloatTensor(10, 20, 4)\n",
    "tensor2 = torch.FloatTensor(10, 1, 4)\n",
    "tensor = tensor1 + tensor2\n",
    "print(tensor1.shape, tensor2.shape, tensor.shape)"
   ]
  },
  {
   "cell_type": "code",
   "execution_count": 29,
   "id": "12335693",
   "metadata": {},
   "outputs": [
    {
     "name": "stdout",
     "output_type": "stream",
     "text": [
      "torch.Size([5, 7, 3]) torch.Size([1, 1, 3]) torch.Size([5, 7, 3])\n"
     ]
    }
   ],
   "source": [
    "tensor1 = torch.FloatTensor(5, 7, 3)\n",
    "tensor2 = torch.FloatTensor(1, 1, 3)\n",
    "tensor = tensor1 + tensor2\n",
    "print(tensor1.shape, tensor2.shape, tensor.shape)"
   ]
  },
  {
   "cell_type": "markdown",
   "id": "85c1dda7",
   "metadata": {},
   "source": [
    "#### Indexing"
   ]
  },
  {
   "cell_type": "code",
   "execution_count": 32,
   "id": "11923170",
   "metadata": {},
   "outputs": [
    {
     "name": "stdout",
     "output_type": "stream",
     "text": [
      "tensor([[1., 2., 3.],\n",
      "        [4., 5., 6.]])\n",
      "tensor(5.)\n",
      "tensor([2., 5.])\n",
      "tensor([[1., 2., 3.],\n",
      "        [4., 5., 6.]])\n"
     ]
    }
   ],
   "source": [
    "tensor = torch.FloatTensor([[1, 2, 3], [4, 5, 6]])\n",
    "print(tensor)\n",
    "print(tensor[1, 1])\n",
    "print(tensor[:, 1])\n",
    "print(tensor[:, :])\n",
    "print(tensor[:])"
   ]
  },
  {
   "cell_type": "code",
   "execution_count": 34,
   "id": "f72a424b",
   "metadata": {},
   "outputs": [
    {
     "name": "stdout",
     "output_type": "stream",
     "text": [
      "tensor([[1., 2., 3.],\n",
      "        [4., 5., 6.]])\n",
      "tensor([[1., 2.],\n",
      "        [4., 5.]])\n"
     ]
    }
   ],
   "source": [
    "tensor1 = torch.FloatTensor([[1,2,3],[4,5,6]])\n",
    "print(tensor1)\n",
    "tensor2 = tensor1[:2, :2]\n",
    "print(tensor2)"
   ]
  },
  {
   "cell_type": "code",
   "execution_count": 36,
   "id": "f70cc80e",
   "metadata": {},
   "outputs": [
    {
     "name": "stdout",
     "output_type": "stream",
     "text": [
      "tensor([[1., 2., 3.],\n",
      "        [4., 0., 6.]])\n",
      "tensor([[1., 2.],\n",
      "        [4., 0.]])\n"
     ]
    }
   ],
   "source": [
    "tensor2[1, 1] = 0\n",
    "print(tensor1)\n",
    "print(tensor2)"
   ]
  },
  {
   "cell_type": "code",
   "execution_count": 37,
   "id": "957e76dd",
   "metadata": {},
   "outputs": [
    {
     "name": "stdout",
     "output_type": "stream",
     "text": [
      "tensor([[1., 2., 3.],\n",
      "        [4., 5., 6.]])\n",
      "tensor([[1., 2.],\n",
      "        [4., 5.]])\n"
     ]
    }
   ],
   "source": [
    "tensor1 = torch.FloatTensor([[1,2,3],[4,5,6]])\n",
    "print(tensor1)\n",
    "tensor2 = tensor1[:2, :2].clone().detach()\n",
    "print(tensor2)"
   ]
  },
  {
   "cell_type": "code",
   "execution_count": 38,
   "id": "f6630a24",
   "metadata": {},
   "outputs": [
    {
     "name": "stdout",
     "output_type": "stream",
     "text": [
      "tensor([[1., 2., 3.],\n",
      "        [4., 5., 6.]])\n",
      "tensor([[1., 2.],\n",
      "        [4., 0.]])\n"
     ]
    }
   ],
   "source": [
    "tensor2[1, 1] = 0\n",
    "print(tensor1)\n",
    "print(tensor2)"
   ]
  },
  {
   "cell_type": "code",
   "execution_count": null,
   "id": "dde2a685",
   "metadata": {},
   "outputs": [],
   "source": []
  }
 ],
 "metadata": {
  "kernelspec": {
   "display_name": "Python 3 (ipykernel)",
   "language": "python",
   "name": "python3"
  },
  "language_info": {
   "codemirror_mode": {
    "name": "ipython",
    "version": 3
   },
   "file_extension": ".py",
   "mimetype": "text/x-python",
   "name": "python",
   "nbconvert_exporter": "python",
   "pygments_lexer": "ipython3",
   "version": "3.9.13"
  }
 },
 "nbformat": 4,
 "nbformat_minor": 5
}
