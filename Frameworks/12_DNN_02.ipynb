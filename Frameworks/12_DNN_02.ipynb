{
 "cells": [
  {
   "cell_type": "code",
   "execution_count": 1,
   "id": "a48114d8",
   "metadata": {},
   "outputs": [],
   "source": [
    "import torch\n",
    "import torch.nn as nn"
   ]
  },
  {
   "cell_type": "code",
   "execution_count": 2,
   "id": "88b40505",
   "metadata": {},
   "outputs": [],
   "source": [
    "x = torch.ones(5000, 10)\n",
    "y = torch.zeros(5000, 1)\n",
    "learning_rate = 0.01\n",
    "epochs = 1000\n",
    "batch_size = 256"
   ]
  },
  {
   "cell_type": "code",
   "execution_count": 3,
   "id": "532fa3d7",
   "metadata": {},
   "outputs": [],
   "source": [
    "input_dim = x.size(-1)\n",
    "output_dim = y.size(-1)"
   ]
  },
  {
   "cell_type": "code",
   "execution_count": 5,
   "id": "3cb9a8f4",
   "metadata": {},
   "outputs": [],
   "source": [
    "model = nn.Sequential(\n",
    "    nn.Linear(input_dim, 10),\n",
    "    nn.LeakyReLU(0.1),\n",
    "    nn.Linear(10, 8),\n",
    "    nn.LeakyReLU(0.1),\n",
    "    nn.Linear(8, 6),\n",
    "    nn.LeakyReLU(0.1),\n",
    "    nn.Linear(6, output_dim)\n",
    ")"
   ]
  },
  {
   "cell_type": "code",
   "execution_count": 6,
   "id": "a8d6a813",
   "metadata": {},
   "outputs": [],
   "source": [
    "loss_function = nn.MSELoss()\n",
    "optimizer = torch.optim.Adam(model.parameters())"
   ]
  },
  {
   "cell_type": "code",
   "execution_count": 7,
   "id": "ea98c47e",
   "metadata": {},
   "outputs": [
    {
     "name": "stdout",
     "output_type": "stream",
     "text": [
      "tensor([ 735, 3519, 1987,  ..., 1172, 4213,  647])\n",
      "20 20\n"
     ]
    }
   ],
   "source": [
    "indices = torch.randperm(x.size(0))\n",
    "print(indices)\n",
    "x_batch_list = torch.index_select(x, 0, index=indices)\n",
    "y_batch_list = torch.index_select(y, 0, index=indices)\n",
    "x_batch_list = x_batch_list.split(batch_size, dim=0)\n",
    "y_batch_list = y_batch_list.split(batch_size, dim=0)\n",
    "print(len(x_batch_list), len(y_batch_list))"
   ]
  },
  {
   "cell_type": "code",
   "execution_count": 9,
   "id": "67cc5dba",
   "metadata": {},
   "outputs": [
    {
     "name": "stdout",
     "output_type": "stream",
     "text": [
      "tensor(0., grad_fn=<MseLossBackward0>)\n",
      "Parameter containing:\n",
      "tensor([[-0.0688, -0.1748,  0.2154,  0.2757,  0.0211, -0.0849,  0.2164, -0.1445,\n",
      "         -0.2947,  0.0373],\n",
      "        [-0.2833,  0.0303,  0.0788,  0.1693,  0.1469,  0.1942, -0.1317,  0.0265,\n",
      "          0.2695, -0.2761],\n",
      "        [-0.1966, -0.1683, -0.0504,  0.0530,  0.0990, -0.1164, -0.0801,  0.1561,\n",
      "          0.2310,  0.1377],\n",
      "        [-0.1695, -0.1795,  0.0078, -0.1873,  0.1178, -0.1514,  0.0571, -0.0532,\n",
      "          0.2221, -0.0036],\n",
      "        [-0.1687,  0.2234,  0.0404, -0.2162, -0.0967, -0.2547, -0.2173,  0.1964,\n",
      "         -0.0925,  0.0430],\n",
      "        [-0.0645,  0.0308,  0.0606, -0.2003,  0.3496,  0.1851, -0.1551, -0.0747,\n",
      "         -0.1812,  0.2050],\n",
      "        [-0.1622, -0.0699, -0.1970,  0.2050,  0.1194, -0.2518,  0.1912, -0.2066,\n",
      "         -0.2783, -0.3212],\n",
      "        [-0.2980,  0.0836,  0.0811, -0.1003, -0.2717, -0.2728, -0.1325, -0.2356,\n",
      "          0.2299, -0.3163],\n",
      "        [ 0.1937,  0.3069,  0.0034, -0.1844, -0.0605,  0.1195,  0.1285,  0.2478,\n",
      "         -0.0427, -0.0611],\n",
      "        [-0.0526, -0.2439, -0.1201,  0.2173,  0.2876, -0.0716,  0.1754,  0.3418,\n",
      "          0.2729,  0.0358]], requires_grad=True)\n",
      "Parameter containing:\n",
      "tensor([-0.0278,  0.0293,  0.1755,  0.2577, -0.3454, -0.2150, -0.3070, -0.1220,\n",
      "         0.3130, -0.0898], requires_grad=True)\n",
      "Parameter containing:\n",
      "tensor([[-0.2460,  0.2320, -0.1135, -0.2123,  0.3208,  0.1043,  0.2317,  0.3369,\n",
      "         -0.1023,  0.0774],\n",
      "        [ 0.2570,  0.2648,  0.0345,  0.1334, -0.0764,  0.3412,  0.0919,  0.1950,\n",
      "          0.0741, -0.1509],\n",
      "        [ 0.0591, -0.0738, -0.2458, -0.1067, -0.1095,  0.2722, -0.3285, -0.2766,\n",
      "         -0.0041,  0.1705],\n",
      "        [ 0.3113, -0.0347,  0.2688, -0.1689,  0.2243,  0.2718, -0.1650,  0.1981,\n",
      "         -0.0169, -0.2975],\n",
      "        [-0.2737,  0.0848, -0.2724, -0.2133,  0.0346, -0.1935, -0.2125,  0.0176,\n",
      "          0.0958,  0.1643],\n",
      "        [-0.0278,  0.3123, -0.2148, -0.2213,  0.0680,  0.2250,  0.2186, -0.1697,\n",
      "          0.2682,  0.2244],\n",
      "        [-0.1896,  0.0941,  0.1839,  0.0767,  0.2736,  0.2084,  0.2279,  0.2063,\n",
      "          0.2013,  0.1252],\n",
      "        [-0.2332, -0.1573, -0.1886,  0.2288, -0.1147, -0.2034,  0.1069, -0.0800,\n",
      "         -0.0560, -0.2842]], requires_grad=True)\n",
      "Parameter containing:\n",
      "tensor([ 0.1886, -0.2306, -0.1846, -0.2821,  0.2526,  0.1795,  0.3258,  0.0495],\n",
      "       requires_grad=True)\n",
      "Parameter containing:\n",
      "tensor([[-0.3246, -0.2082,  0.1226,  0.0042, -0.0176, -0.2817, -0.3565,  0.2465],\n",
      "        [ 0.2747,  0.1414, -0.2024,  0.1787,  0.2462, -0.1974,  0.2929,  0.2376],\n",
      "        [-0.0162, -0.2204, -0.2853,  0.2615, -0.3132, -0.0065,  0.1095, -0.0033],\n",
      "        [ 0.2164, -0.1779,  0.2657,  0.1798,  0.3512, -0.1094, -0.0563, -0.2201],\n",
      "        [-0.2410,  0.1494,  0.0395, -0.2650,  0.2370,  0.1876,  0.2895, -0.1393],\n",
      "        [-0.1556, -0.1112, -0.1440, -0.3576,  0.3110,  0.1465,  0.3241, -0.2874]],\n",
      "       requires_grad=True)\n",
      "Parameter containing:\n",
      "tensor([-2.6988e-01,  1.4563e-04,  1.9545e-01, -1.1675e-01,  5.0136e-02,\n",
      "         6.9570e-02], requires_grad=True)\n",
      "Parameter containing:\n",
      "tensor([[-0.0640, -0.1218,  0.0381,  0.3208,  0.1291,  0.2124]],\n",
      "       requires_grad=True)\n",
      "Parameter containing:\n",
      "tensor([-0.1529], requires_grad=True)\n"
     ]
    }
   ],
   "source": [
    "for index in range(epochs):\n",
    "    x_batch_list = torch.index_select(x, 0, index=indices)\n",
    "    y_batch_list = torch.index_select(y, 0, index=indices)\n",
    "    x_batch_list = x_batch_list.split(batch_size, 0)\n",
    "    y_batch_list = y_batch_list.split(batch_size, 0)\n",
    "    \n",
    "    for x_minibatch, y_minibatch in zip(x_batch_list, y_batch_list):\n",
    "        y_minibatch_pred = model(x_minibatch)\n",
    "        loss = loss_function(y_minibatch_pred, y_minibatch)\n",
    "        \n",
    "        optimizer.zero_grad()\n",
    "        loss.backward()\n",
    "        optimizer.step()\n",
    "        \n",
    "print(loss)\n",
    "for param in model.parameters():\n",
    "    print(param)"
   ]
  },
  {
   "cell_type": "code",
   "execution_count": null,
   "id": "4bb7b9f9",
   "metadata": {},
   "outputs": [],
   "source": []
  }
 ],
 "metadata": {
  "kernelspec": {
   "display_name": "Python 3 (ipykernel)",
   "language": "python",
   "name": "python3"
  },
  "language_info": {
   "codemirror_mode": {
    "name": "ipython",
    "version": 3
   },
   "file_extension": ".py",
   "mimetype": "text/x-python",
   "name": "python",
   "nbconvert_exporter": "python",
   "pygments_lexer": "ipython3",
   "version": "3.9.13"
  }
 },
 "nbformat": 4,
 "nbformat_minor": 5
}
