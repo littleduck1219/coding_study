{
 "cells": [
  {
   "cell_type": "code",
   "execution_count": 17,
   "id": "292424ba",
   "metadata": {},
   "outputs": [],
   "source": [
    "import torch\n",
    "import torch.nn as nn\n",
    "\n",
    "x = torch.rand(1, requires_grad=True)\n",
    "y = torch.rand(1)\n",
    "y.requires_grad = True\n",
    "loss = y - x"
   ]
  },
  {
   "cell_type": "code",
   "execution_count": 18,
   "id": "2e28412e",
   "metadata": {},
   "outputs": [
    {
     "name": "stdout",
     "output_type": "stream",
     "text": [
      "tensor([-1.]) tensor([1.])\n"
     ]
    }
   ],
   "source": [
    "loss.backward()\n",
    "print(x.grad, y.grad)"
   ]
  },
  {
   "cell_type": "code",
   "execution_count": 19,
   "id": "fe4a6182",
   "metadata": {},
   "outputs": [
    {
     "name": "stdout",
     "output_type": "stream",
     "text": [
      "tensor([[0.6824, 0.2366, 0.8142],\n",
      "        [0.6178, 0.1740, 0.1260],\n",
      "        [0.2713, 0.0818, 0.8764],\n",
      "        [0.4297, 0.1040, 0.6553]], requires_grad=True) tensor([0.4725, 0.5997, 0.6947], requires_grad=True) tensor([2.4737, 1.1961, 3.1666], grad_fn=<AddBackward0>)\n"
     ]
    }
   ],
   "source": [
    "x = torch.ones(4)\n",
    "y = torch.zeros(3)\n",
    "w = torch.rand(4, 3, requires_grad=True)\n",
    "b = torch.rand(3, requires_grad=True)\n",
    "z = torch.matmul(x, w) + b\n",
    "print(w, b, z)"
   ]
  },
  {
   "cell_type": "code",
   "execution_count": 20,
   "id": "c6e80056",
   "metadata": {},
   "outputs": [
    {
     "name": "stdout",
     "output_type": "stream",
     "text": [
      "tensor(5.8592, grad_fn=<MseLossBackward0>) tensor([[1.6492, 0.7974, 2.1111],\n",
      "        [1.6492, 0.7974, 2.1111],\n",
      "        [1.6492, 0.7974, 2.1111],\n",
      "        [1.6492, 0.7974, 2.1111]]) tensor([1.6492, 0.7974, 2.1111])\n"
     ]
    }
   ],
   "source": [
    "import torch.nn.functional as F\n",
    "\n",
    "loss = F.mse_loss(z, y)\n",
    "loss.backward()\n",
    "print(loss, w.grad, b.grad)"
   ]
  },
  {
   "cell_type": "code",
   "execution_count": 21,
   "id": "66380841",
   "metadata": {},
   "outputs": [
    {
     "name": "stdout",
     "output_type": "stream",
     "text": [
      "1 tensor(5.8592, grad_fn=<MseLossBackward0>) tensor([2.4737, 1.1961, 3.1666], grad_fn=<AddBackward0>) tensor([0., 0., 0.])\n",
      "2 tensor(2.6041, grad_fn=<MseLossBackward0>) tensor([1.6492, 0.7974, 2.1111], grad_fn=<AddBackward0>) tensor([0., 0., 0.])\n",
      "3 tensor(1.1574, grad_fn=<MseLossBackward0>) tensor([1.0994, 0.5316, 1.4074], grad_fn=<AddBackward0>) tensor([0., 0., 0.])\n",
      "4 tensor(0.5144, grad_fn=<MseLossBackward0>) tensor([0.7330, 0.3544, 0.9383], grad_fn=<AddBackward0>) tensor([0., 0., 0.])\n",
      "5 tensor(0.2286, grad_fn=<MseLossBackward0>) tensor([0.4886, 0.2363, 0.6255], grad_fn=<AddBackward0>) tensor([0., 0., 0.])\n",
      "6 tensor(0.1016, grad_fn=<MseLossBackward0>) tensor([0.3258, 0.1575, 0.4170], grad_fn=<AddBackward0>) tensor([0., 0., 0.])\n",
      "7 tensor(0.0452, grad_fn=<MseLossBackward0>) tensor([0.2172, 0.1050, 0.2780], grad_fn=<AddBackward0>) tensor([0., 0., 0.])\n"
     ]
    }
   ],
   "source": [
    "threshold = 0.1\n",
    "learning_rate = 0.1\n",
    "iteration_num = 0\n",
    "\n",
    "while loss > threshold:\n",
    "    iteration_num += 1\n",
    "    w = w - learning_rate * w.grad\n",
    "    b = b - learning_rate * b.grad    \n",
    "    print (iteration_num, loss, z, y)\n",
    "\n",
    "    w.detach_().requires_grad_(True)\n",
    "    b.detach_().requires_grad_(True)\n",
    "    \n",
    "    z = torch.matmul(x, w) + b\n",
    "    loss = F.mse_loss(z, y)\n",
    "    loss.backward()\n",
    "\n",
    "print (iteration_num + 1, loss, z, y)"
   ]
  },
  {
   "cell_type": "code",
   "execution_count": 22,
   "id": "fd2ac4d0",
   "metadata": {},
   "outputs": [
    {
     "name": "stdout",
     "output_type": "stream",
     "text": [
      "tensor(2.)\n",
      "tensor(4.)\n",
      "tensor(6.)\n"
     ]
    }
   ],
   "source": [
    "w = torch.tensor(4.0, requires_grad=True)\n",
    "\n",
    "z = 2 * w\n",
    "z.backward()\n",
    "print(w.grad)\n",
    "\n",
    "z = 2 * w\n",
    "z.backward()\n",
    "print(w.grad)\n",
    "\n",
    "z = 2 * w\n",
    "z.backward()\n",
    "print(w.grad)"
   ]
  },
  {
   "cell_type": "code",
   "execution_count": 26,
   "id": "d8b52074",
   "metadata": {},
   "outputs": [],
   "source": [
    "class Model(nn.Module):\n",
    "    def __init__(self, input_dim, ouput_dim):\n",
    "        super().__init__()\n",
    "        self.linear = nn.Linear(in_features=input_dim, out_features=ouput_dim)\n",
    "        self.activation = nn.Sigmoid()\n",
    "    def forward(self, x):\n",
    "        return self.activation(self.linear(x))"
   ]
  },
  {
   "cell_type": "code",
   "execution_count": 27,
   "id": "186b0cbd",
   "metadata": {},
   "outputs": [],
   "source": [
    "x = torch.ones(4)\n",
    "y = torch.zeros(3)\n",
    "model = Model(4, 3)\n",
    "loss_function = nn.MSELoss()"
   ]
  },
  {
   "cell_type": "code",
   "execution_count": 30,
   "id": "1ea25016",
   "metadata": {},
   "outputs": [],
   "source": [
    "learning_rate = 0.01\n",
    "nb_epochs = 1000\n",
    "optimizer = torch.optim.SGD(model.parameters(), lr=learning_rate)\n",
    "\n",
    "for epoch in range(nb_epochs + 1):\n",
    "    y_pred = model(x)\n",
    "    loss = loss_function(y_pred, y)\n",
    "    optimizer.zero_grad()\n",
    "    loss.backward()\n",
    "    optimizer.step()    "
   ]
  },
  {
   "cell_type": "code",
   "execution_count": 31,
   "id": "21feda0c",
   "metadata": {},
   "outputs": [
    {
     "name": "stdout",
     "output_type": "stream",
     "text": [
      "tensor(0.0204, grad_fn=<MseLossBackward0>)\n",
      "Parameter containing:\n",
      "tensor([[-0.7898, -0.3002, -0.5082, -0.1300],\n",
      "        [-0.3001, -0.3746, -0.5472, -0.2440],\n",
      "        [-0.0799, -0.0414, -0.7197, -0.3134]], requires_grad=True)\n",
      "Parameter containing:\n",
      "tensor([ 0.0252, -0.4637, -0.6081], requires_grad=True)\n"
     ]
    }
   ],
   "source": [
    "print(loss)\n",
    "for param in model.parameters():\n",
    "    print(param)"
   ]
  },
  {
   "cell_type": "code",
   "execution_count": null,
   "id": "a7c4292d",
   "metadata": {},
   "outputs": [],
   "source": []
  }
 ],
 "metadata": {
  "kernelspec": {
   "display_name": "Python 3 (ipykernel)",
   "language": "python",
   "name": "python3"
  },
  "language_info": {
   "codemirror_mode": {
    "name": "ipython",
    "version": 3
   },
   "file_extension": ".py",
   "mimetype": "text/x-python",
   "name": "python",
   "nbconvert_exporter": "python",
   "pygments_lexer": "ipython3",
   "version": "3.9.13"
  }
 },
 "nbformat": 4,
 "nbformat_minor": 5
}
