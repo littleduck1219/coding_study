{
 "cells": [
  {
   "cell_type": "code",
   "execution_count": 17,
   "id": "e7fc7b4b",
   "metadata": {
    "collapsed": true
   },
   "outputs": [
    {
     "name": "stdout",
     "output_type": "stream",
     "text": [
      "Collecting kaggle\n",
      "  Using cached kaggle-1.5.13.tar.gz (63 kB)\n",
      "  Preparing metadata (setup.py) ... \u001b[?25ldone\n",
      "\u001b[?25hRequirement already satisfied: six>=1.10 in /opt/homebrew/lib/python3.10/site-packages (from kaggle) (1.16.0)\n",
      "Collecting certifi\n",
      "  Using cached certifi-2022.12.7-py3-none-any.whl (155 kB)\n",
      "Requirement already satisfied: python-dateutil in /opt/homebrew/lib/python3.10/site-packages (from kaggle) (2.8.2)\n",
      "Collecting requests\n",
      "  Using cached requests-2.28.2-py3-none-any.whl (62 kB)\n",
      "Collecting tqdm\n",
      "  Using cached tqdm-4.65.0-py3-none-any.whl (77 kB)\n",
      "Collecting python-slugify\n",
      "  Downloading python_slugify-8.0.1-py2.py3-none-any.whl (9.7 kB)\n",
      "Collecting urllib3\n",
      "  Using cached urllib3-1.26.15-py2.py3-none-any.whl (140 kB)\n",
      "Collecting text-unidecode>=1.3\n",
      "  Downloading text_unidecode-1.3-py2.py3-none-any.whl (78 kB)\n",
      "\u001b[2K     \u001b[90m━━━━━━━━━━━━━━━━━━━━━━━━━━━━━━━━━━━━━━━━\u001b[0m \u001b[32m78.2/78.2 kB\u001b[0m \u001b[31m3.6 MB/s\u001b[0m eta \u001b[36m0:00:00\u001b[0m\n",
      "\u001b[?25hCollecting charset-normalizer<4,>=2\n",
      "  Using cached charset_normalizer-3.1.0-cp310-cp310-macosx_11_0_arm64.whl (123 kB)\n",
      "Requirement already satisfied: idna<4,>=2.5 in /opt/homebrew/lib/python3.10/site-packages (from requests->kaggle) (3.4)\n",
      "Building wheels for collected packages: kaggle\n",
      "  Building wheel for kaggle (setup.py) ... \u001b[?25ldone\n",
      "\u001b[?25h  Created wheel for kaggle: filename=kaggle-1.5.13-py3-none-any.whl size=77716 sha256=49b690cfcdb23b95038d60f487cd300903d104284b9938510586fdf0019ba080\n",
      "  Stored in directory: /Users/gyeongdeokpark/Library/Caches/pip/wheels/1b/22/79/e73b3e988388377c1cda3385bfa20c1799be101c2e12bbe3dc\n",
      "Successfully built kaggle\n",
      "Installing collected packages: text-unidecode, urllib3, tqdm, python-slugify, charset-normalizer, certifi, requests, kaggle\n",
      "Successfully installed certifi-2022.12.7 charset-normalizer-3.1.0 kaggle-1.5.13 python-slugify-8.0.1 requests-2.28.2 text-unidecode-1.3 tqdm-4.65.0 urllib3-1.26.15\n",
      "\n",
      "\u001b[1m[\u001b[0m\u001b[34;49mnotice\u001b[0m\u001b[1;39;49m]\u001b[0m\u001b[39;49m A new release of pip available: \u001b[0m\u001b[31;49m22.3.1\u001b[0m\u001b[39;49m -> \u001b[0m\u001b[32;49m23.0.1\u001b[0m\n",
      "\u001b[1m[\u001b[0m\u001b[34;49mnotice\u001b[0m\u001b[1;39;49m]\u001b[0m\u001b[39;49m To update, run: \u001b[0m\u001b[32;49mpython3.10 -m pip install --upgrade pip\u001b[0m\n"
     ]
    }
   ],
   "source": [
    "!pip install kaggle"
   ]
  },
  {
   "cell_type": "code",
   "execution_count": 18,
   "id": "38fcc8da",
   "metadata": {
    "collapsed": true
   },
   "outputs": [
    {
     "name": "stdout",
     "output_type": "stream",
     "text": [
      "Requirement already satisfied: kaggle in /opt/homebrew/lib/python3.10/site-packages (1.5.13)\n",
      "Requirement already satisfied: certifi in /opt/homebrew/lib/python3.10/site-packages (from kaggle) (2022.12.7)\n",
      "Requirement already satisfied: requests in /opt/homebrew/lib/python3.10/site-packages (from kaggle) (2.28.2)\n",
      "Requirement already satisfied: tqdm in /opt/homebrew/lib/python3.10/site-packages (from kaggle) (4.65.0)\n",
      "Requirement already satisfied: python-slugify in /opt/homebrew/lib/python3.10/site-packages (from kaggle) (8.0.1)\n",
      "Requirement already satisfied: urllib3 in /opt/homebrew/lib/python3.10/site-packages (from kaggle) (1.26.15)\n",
      "Requirement already satisfied: python-dateutil in /opt/homebrew/lib/python3.10/site-packages (from kaggle) (2.8.2)\n",
      "Requirement already satisfied: six>=1.10 in /opt/homebrew/lib/python3.10/site-packages (from kaggle) (1.16.0)\n",
      "Requirement already satisfied: text-unidecode>=1.3 in /opt/homebrew/lib/python3.10/site-packages (from python-slugify->kaggle) (1.3)\n",
      "Requirement already satisfied: idna<4,>=2.5 in /opt/homebrew/lib/python3.10/site-packages (from requests->kaggle) (3.4)\n",
      "Requirement already satisfied: charset-normalizer<4,>=2 in /opt/homebrew/lib/python3.10/site-packages (from requests->kaggle) (3.1.0)\n",
      "\n",
      "\u001b[1m[\u001b[0m\u001b[34;49mnotice\u001b[0m\u001b[1;39;49m]\u001b[0m\u001b[39;49m A new release of pip available: \u001b[0m\u001b[31;49m22.3.1\u001b[0m\u001b[39;49m -> \u001b[0m\u001b[32;49m23.0.1\u001b[0m\n",
      "\u001b[1m[\u001b[0m\u001b[34;49mnotice\u001b[0m\u001b[1;39;49m]\u001b[0m\u001b[39;49m To update, run: \u001b[0m\u001b[32;49mpython3.10 -m pip install --upgrade pip\u001b[0m\n"
     ]
    }
   ],
   "source": [
    "!pip install kaggle --upgrade"
   ]
  },
  {
   "cell_type": "code",
   "execution_count": 19,
   "id": "74eaa878",
   "metadata": {
    "collapsed": true
   },
   "outputs": [
    {
     "name": "stdout",
     "output_type": "stream",
     "text": [
      "Requirement already satisfied: pip in /opt/homebrew/lib/python3.10/site-packages (22.3.1)\n",
      "Collecting pip\n",
      "  Using cached pip-23.0.1-py3-none-any.whl (2.1 MB)\n",
      "Installing collected packages: pip\n",
      "  Attempting uninstall: pip\n",
      "    Found existing installation: pip 22.3.1\n",
      "    Uninstalling pip-22.3.1:\n",
      "      Successfully uninstalled pip-22.3.1\n",
      "Successfully installed pip-23.0.1\n"
     ]
    }
   ],
   "source": [
    "!pip3 install pip --upgrade"
   ]
  },
  {
   "cell_type": "code",
   "execution_count": 26,
   "id": "cafd5b98",
   "metadata": {},
   "outputs": [
    {
     "name": "stdout",
     "output_type": "stream",
     "text": [
      "Name: kaggle\r\n",
      "Version: 1.5.13\r\n",
      "Summary: Kaggle API\r\n",
      "Home-page: https://github.com/Kaggle/kaggle-api\r\n",
      "Author: Kaggle\r\n",
      "Author-email: support@kaggle.com\r\n",
      "License: Apache 2.0\r\n",
      "Location: /opt/homebrew/lib/python3.10/site-packages\r\n",
      "Requires: certifi, python-dateutil, python-slugify, requests, six, tqdm, urllib3\r\n",
      "Required-by: \r\n"
     ]
    }
   ],
   "source": [
    "!pip show kaggle"
   ]
  },
  {
   "cell_type": "code",
   "execution_count": 31,
   "id": "497e1cc4",
   "metadata": {},
   "outputs": [
    {
     "name": "stdout",
     "output_type": "stream",
     "text": [
      "Configuration values from /Users/gyeongdeokpark/.kaggle\r\n",
      "- username: littleduck1219\r\n",
      "- path: None\r\n",
      "- proxy: None\r\n",
      "- competition: None\r\n"
     ]
    }
   ],
   "source": [
    "!kaggle config view"
   ]
  },
  {
   "cell_type": "code",
   "execution_count": 33,
   "id": "cc8cbd77",
   "metadata": {},
   "outputs": [
    {
     "name": "stdout",
     "output_type": "stream",
     "text": [
      "Downloading house-prices-advanced-regression-techniques.zip to /Users/gyeongdeokpark/Desktop/36.infrun/Deeplearning\r\n",
      "\r",
      "  0%|                                                | 0.00/199k [00:00<?, ?B/s]\r\n",
      "\r",
      "100%|████████████████████████████████████████| 199k/199k [00:00<00:00, 6.34MB/s]\r\n"
     ]
    }
   ],
   "source": [
    "!kaggle competitions download -c house-prices-advanced-regression-techniques"
   ]
  },
  {
   "cell_type": "code",
   "execution_count": 38,
   "id": "39c1f55d",
   "metadata": {},
   "outputs": [],
   "source": [
    "import torch\n",
    "import torch.nn as nn\n",
    "import os\n",
    "import shutil\n",
    "import numpy as np\n",
    "import pandas as pd\n",
    "from sklearn.preprocessing import StandardScaler"
   ]
  },
  {
   "cell_type": "code",
   "execution_count": 39,
   "id": "8ff9743a",
   "metadata": {},
   "outputs": [
    {
     "data": {
      "text/plain": [
       "['03_Indexing_Tensor.ipynb',\n",
       " '.DS_Store',\n",
       " 'Untitled.ipynb',\n",
       " '12_DNN_02.ipynb',\n",
       " 'tensor_datasets',\n",
       " '13_house_price_regression.ipynb',\n",
       " '02_Calculate_Tensor.ipynb',\n",
       " 'my_first_tensor',\n",
       " 'house-prices-advanced-regression-techniques.zip',\n",
       " '09_perseptron_one_layer.ipynb',\n",
       " '10_ANN.ipynb',\n",
       " '05_Torch_Matrix.ipynb',\n",
       " '.ipynb_checkpoints',\n",
       " '11_DNN_01.ipynb',\n",
       " '07_optimizer.ipynb',\n",
       " '04_numpy.ipynb',\n",
       " '06_Linear.ipynb',\n",
       " '01_create_tensor.ipynb']"
      ]
     },
     "execution_count": 39,
     "metadata": {},
     "output_type": "execute_result"
    }
   ],
   "source": [
    "os.listdir()"
   ]
  },
  {
   "cell_type": "code",
   "execution_count": 41,
   "id": "37a7b20b",
   "metadata": {},
   "outputs": [],
   "source": [
    "file_name = 'house-prices-advanced-regression-techniques.zip'\n",
    "extract = 'house-prices-advanced-regression-techniques'\n",
    "archive_format = 'zip'\n",
    "\n",
    "shutil.unpack_archive(file_name, extract, archive_format)"
   ]
  },
  {
   "cell_type": "code",
   "execution_count": 44,
   "id": "a5a53223",
   "metadata": {},
   "outputs": [],
   "source": [
    "df_train = pd.read_csv('house-prices-advanced-regression-techniques/train.csv')\n",
    "df_test = pd.read_csv('house-prices-advanced-regression-techniques/test.csv')"
   ]
  },
  {
   "cell_type": "code",
   "execution_count": 45,
   "id": "99ca11a5",
   "metadata": {},
   "outputs": [
    {
     "name": "stdout",
     "output_type": "stream",
     "text": [
      "(1460, 81) (1459, 80)\n"
     ]
    }
   ],
   "source": [
    "print(df_train.shape, df_test.shape)"
   ]
  },
  {
   "cell_type": "code",
   "execution_count": 46,
   "id": "4c57e491",
   "metadata": {},
   "outputs": [
    {
     "data": {
      "text/plain": [
       "Id              -0.021917\n",
       "MSSubClass      -0.084284\n",
       "LotFrontage      0.351799\n",
       "LotArea          0.263843\n",
       "OverallQual      0.790982\n",
       "OverallCond     -0.077856\n",
       "YearBuilt        0.522897\n",
       "YearRemodAdd     0.507101\n",
       "MasVnrArea       0.477493\n",
       "BsmtFinSF1       0.386420\n",
       "BsmtFinSF2      -0.011378\n",
       "BsmtUnfSF        0.214479\n",
       "TotalBsmtSF      0.613581\n",
       "1stFlrSF         0.605852\n",
       "2ndFlrSF         0.319334\n",
       "LowQualFinSF    -0.025606\n",
       "GrLivArea        0.708624\n",
       "BsmtFullBath     0.227122\n",
       "BsmtHalfBath    -0.016844\n",
       "FullBath         0.560664\n",
       "HalfBath         0.284108\n",
       "BedroomAbvGr     0.168213\n",
       "KitchenAbvGr    -0.135907\n",
       "TotRmsAbvGrd     0.533723\n",
       "Fireplaces       0.466929\n",
       "GarageYrBlt      0.486362\n",
       "GarageCars       0.640409\n",
       "GarageArea       0.623431\n",
       "WoodDeckSF       0.324413\n",
       "OpenPorchSF      0.315856\n",
       "EnclosedPorch   -0.128578\n",
       "3SsnPorch        0.044584\n",
       "ScreenPorch      0.111447\n",
       "PoolArea         0.092404\n",
       "MiscVal         -0.021190\n",
       "MoSold           0.046432\n",
       "YrSold          -0.028923\n",
       "SalePrice        1.000000\n",
       "Name: SalePrice, dtype: float64"
      ]
     },
     "execution_count": 46,
     "metadata": {},
     "output_type": "execute_result"
    }
   ],
   "source": [
    "df_train.corr()['SalePrice'] #corr 상관관계"
   ]
  },
  {
   "cell_type": "code",
   "execution_count": 47,
   "id": "509841f9",
   "metadata": {},
   "outputs": [
    {
     "data": {
      "text/plain": [
       "OverallQual     0.790982\n",
       "YearBuilt       0.522897\n",
       "YearRemodAdd    0.507101\n",
       "TotalBsmtSF     0.613581\n",
       "1stFlrSF        0.605852\n",
       "GrLivArea       0.708624\n",
       "FullBath        0.560664\n",
       "TotRmsAbvGrd    0.533723\n",
       "GarageCars      0.640409\n",
       "GarageArea      0.623431\n",
       "SalePrice       1.000000\n",
       "Name: SalePrice, dtype: float64"
      ]
     },
     "execution_count": 47,
     "metadata": {},
     "output_type": "execute_result"
    }
   ],
   "source": [
    "df_train.corr()['SalePrice'][(df_train.corr()['SalePrice'] > 0.5) | (df_train.corr()['SalePrice'] < -0.5)]"
   ]
  },
  {
   "cell_type": "code",
   "execution_count": 50,
   "id": "5eb99508",
   "metadata": {},
   "outputs": [],
   "source": [
    "feature_list = df_train.corr()['SalePrice'][(df_train.corr()['SalePrice'] > 0.5) | (df_train.corr()['SalePrice'] < -0.5)].index"
   ]
  },
  {
   "cell_type": "code",
   "execution_count": 51,
   "id": "61341fa3",
   "metadata": {},
   "outputs": [
    {
     "data": {
      "text/plain": [
       "Index(['OverallQual', 'YearBuilt', 'YearRemodAdd', 'TotalBsmtSF', '1stFlrSF',\n",
       "       'GrLivArea', 'FullBath', 'TotRmsAbvGrd', 'GarageCars', 'GarageArea',\n",
       "       'SalePrice'],\n",
       "      dtype='object')"
      ]
     },
     "execution_count": 51,
     "metadata": {},
     "output_type": "execute_result"
    }
   ],
   "source": [
    "feature_list"
   ]
  },
  {
   "cell_type": "code",
   "execution_count": 53,
   "id": "965c6141",
   "metadata": {},
   "outputs": [
    {
     "data": {
      "text/plain": [
       "OverallQual     0\n",
       "YearBuilt       0\n",
       "YearRemodAdd    0\n",
       "TotalBsmtSF     0\n",
       "1stFlrSF        0\n",
       "GrLivArea       0\n",
       "FullBath        0\n",
       "TotRmsAbvGrd    0\n",
       "GarageCars      0\n",
       "GarageArea      0\n",
       "SalePrice       0\n",
       "dtype: int64"
      ]
     },
     "execution_count": 53,
     "metadata": {},
     "output_type": "execute_result"
    }
   ],
   "source": [
    "# 결측치 확인\n",
    "df_train[feature_list].isnull().sum()"
   ]
  },
  {
   "cell_type": "code",
   "execution_count": 57,
   "id": "4ad71fff",
   "metadata": {},
   "outputs": [
    {
     "data": {
      "text/plain": [
       "OverallQual     int64\n",
       "YearBuilt       int64\n",
       "YearRemodAdd    int64\n",
       "TotalBsmtSF     int64\n",
       "1stFlrSF        int64\n",
       "GrLivArea       int64\n",
       "FullBath        int64\n",
       "TotRmsAbvGrd    int64\n",
       "GarageCars      int64\n",
       "GarageArea      int64\n",
       "SalePrice       int64\n",
       "dtype: object"
      ]
     },
     "execution_count": 57,
     "metadata": {},
     "output_type": "execute_result"
    }
   ],
   "source": [
    "# type 확인\n",
    "df_train[feature_list].dtypes"
   ]
  },
  {
   "cell_type": "code",
   "execution_count": 58,
   "id": "9287951c",
   "metadata": {},
   "outputs": [
    {
     "data": {
      "text/plain": [
       "['OverallQual',\n",
       " 'YearBuilt',\n",
       " 'YearRemodAdd',\n",
       " 'TotalBsmtSF',\n",
       " '1stFlrSF',\n",
       " 'GrLivArea',\n",
       " 'FullBath',\n",
       " 'TotRmsAbvGrd',\n",
       " 'GarageCars',\n",
       " 'GarageArea']"
      ]
     },
     "execution_count": 58,
     "metadata": {},
     "output_type": "execute_result"
    }
   ],
   "source": [
    "features = list(feature_list[:-1])\n",
    "features"
   ]
  },
  {
   "cell_type": "code",
   "execution_count": 59,
   "id": "e85bba7b",
   "metadata": {},
   "outputs": [],
   "source": [
    "for feature in features:\n",
    "    df_test[feature].fillna((df_test[feature].mean()), inplace=True)\n"
   ]
  },
  {
   "cell_type": "code",
   "execution_count": 60,
   "id": "cef951b5",
   "metadata": {},
   "outputs": [],
   "source": [
    "X_train = df_train[features]\n",
    "y_train = df_train[['SalePrice']].values\n",
    "X_test = df_test[features]"
   ]
  },
  {
   "cell_type": "code",
   "execution_count": 61,
   "id": "0344f4ce",
   "metadata": {},
   "outputs": [
    {
     "data": {
      "text/plain": [
       "numpy.ndarray"
      ]
     },
     "execution_count": 61,
     "metadata": {},
     "output_type": "execute_result"
    }
   ],
   "source": [
    "type(y_train)"
   ]
  },
  {
   "cell_type": "code",
   "execution_count": 67,
   "id": "eec7a572",
   "metadata": {},
   "outputs": [],
   "source": [
    "std_scaler = StandardScaler()\n",
    "std_scaler.fit(X_train)\n",
    "X_train_tensor = torch.from_numpy(std_scaler.transform(X_train)).float()\n",
    "X_test_tensor = torch.from_numpy(std_scaler.transform(X_test)).float()\n",
    "y_train_tensor = torch.from_numpy(y_train).float()"
   ]
  },
  {
   "cell_type": "code",
   "execution_count": 69,
   "id": "722ced95",
   "metadata": {},
   "outputs": [
    {
     "name": "stdout",
     "output_type": "stream",
     "text": [
      "torch.Size([1460, 10]) torch.Size([1459, 10]) torch.Size([1460, 1])\n"
     ]
    }
   ],
   "source": [
    "print(X_train_tensor.shape, X_test_tensor.shape, y_train_tensor.shape)"
   ]
  },
  {
   "cell_type": "code",
   "execution_count": 70,
   "id": "20ba203f",
   "metadata": {},
   "outputs": [],
   "source": [
    "epochs = 10000\n",
    "batch_size = 256"
   ]
  },
  {
   "cell_type": "code",
   "execution_count": 71,
   "id": "7058cdf9",
   "metadata": {},
   "outputs": [],
   "source": [
    "class Model(nn.Module):\n",
    "    def __init__(self, input_dim, output_dim):\n",
    "        super().__init__()\n",
    "        \n",
    "        self.linear_layers = nn.Sequential(\n",
    "            nn.Linear(input_dim, 20),\n",
    "            nn.LeakyReLU(),\n",
    "            nn.Linear(20, 10),\n",
    "            nn.LeakyReLU(),\n",
    "            nn.Linear(10, 8),\n",
    "            nn.LeakyReLU(),\n",
    "            nn.Linear(8, 6),\n",
    "            nn.LeakyReLU(),\n",
    "            nn.Linear(6, output_dim)\n",
    "        )\n",
    "    def forward(self, x):\n",
    "        y = self.linear_layers(x)\n",
    "        return y"
   ]
  },
  {
   "cell_type": "code",
   "execution_count": 80,
   "id": "010f62e9",
   "metadata": {},
   "outputs": [
    {
     "name": "stdout",
     "output_type": "stream",
     "text": [
      "10 1\n"
     ]
    }
   ],
   "source": [
    "input_dim = X_train_tensor.size(-1)\n",
    "output_dim = y_train_tensor.size(-1)\n",
    "print(input_dim, output_dim)"
   ]
  },
  {
   "cell_type": "code",
   "execution_count": 81,
   "id": "76e0109d",
   "metadata": {},
   "outputs": [],
   "source": [
    "model = Model(input_dim, output_dim)\n",
    "loss_function = nn.MSELoss()\n",
    "optimizer = torch.optim.Adam(model.parameters())"
   ]
  },
  {
   "cell_type": "code",
   "execution_count": 82,
   "id": "6229656d",
   "metadata": {
    "scrolled": false
   },
   "outputs": [
    {
     "name": "stdout",
     "output_type": "stream",
     "text": [
      "0 tensor(0.9994, grad_fn=<DivBackward0>)\n",
      "100 tensor(0.6976, grad_fn=<DivBackward0>)\n",
      "200 tensor(0.6971, grad_fn=<DivBackward0>)\n",
      "300 tensor(0.6957, grad_fn=<DivBackward0>)\n",
      "400 tensor(0.6981, grad_fn=<DivBackward0>)\n",
      "500 tensor(0.6993, grad_fn=<DivBackward0>)\n",
      "600 tensor(0.6971, grad_fn=<DivBackward0>)\n",
      "700 tensor(0.6973, grad_fn=<DivBackward0>)\n",
      "800 tensor(0.7014, grad_fn=<DivBackward0>)\n",
      "900 tensor(0.6951, grad_fn=<DivBackward0>)\n",
      "1000 tensor(0.6986, grad_fn=<DivBackward0>)\n",
      "1100 tensor(0.6970, grad_fn=<DivBackward0>)\n",
      "1200 tensor(0.6966, grad_fn=<DivBackward0>)\n",
      "1300 tensor(0.6996, grad_fn=<DivBackward0>)\n",
      "1400 tensor(0.6978, grad_fn=<DivBackward0>)\n",
      "1500 tensor(0.6985, grad_fn=<DivBackward0>)\n",
      "1600 tensor(0.6977, grad_fn=<DivBackward0>)\n",
      "1700 tensor(0.6976, grad_fn=<DivBackward0>)\n",
      "1800 tensor(0.6994, grad_fn=<DivBackward0>)\n",
      "1900 tensor(0.6980, grad_fn=<DivBackward0>)\n",
      "2000 tensor(0.6948, grad_fn=<DivBackward0>)\n",
      "2100 tensor(0.6972, grad_fn=<DivBackward0>)\n",
      "2200 tensor(0.6961, grad_fn=<DivBackward0>)\n",
      "2300 tensor(0.6979, grad_fn=<DivBackward0>)\n",
      "2400 tensor(0.6955, grad_fn=<DivBackward0>)\n",
      "2500 tensor(0.6983, grad_fn=<DivBackward0>)\n",
      "2600 tensor(0.6959, grad_fn=<DivBackward0>)\n",
      "2700 tensor(0.6973, grad_fn=<DivBackward0>)\n",
      "2800 tensor(0.6963, grad_fn=<DivBackward0>)\n",
      "2900 tensor(0.6965, grad_fn=<DivBackward0>)\n",
      "3000 tensor(0.6964, grad_fn=<DivBackward0>)\n",
      "3100 tensor(0.6966, grad_fn=<DivBackward0>)\n",
      "3200 tensor(0.6961, grad_fn=<DivBackward0>)\n",
      "3300 tensor(0.6974, grad_fn=<DivBackward0>)\n",
      "3400 tensor(0.6977, grad_fn=<DivBackward0>)\n",
      "3500 tensor(0.6963, grad_fn=<DivBackward0>)\n",
      "3600 tensor(0.6980, grad_fn=<DivBackward0>)\n",
      "3700 tensor(0.6976, grad_fn=<DivBackward0>)\n",
      "3800 tensor(0.6967, grad_fn=<DivBackward0>)\n",
      "3900 tensor(0.6957, grad_fn=<DivBackward0>)\n",
      "4000 tensor(0.6973, grad_fn=<DivBackward0>)\n",
      "4100 tensor(0.7000, grad_fn=<DivBackward0>)\n",
      "4200 tensor(0.6969, grad_fn=<DivBackward0>)\n",
      "4300 tensor(0.6964, grad_fn=<DivBackward0>)\n",
      "4400 tensor(0.6968, grad_fn=<DivBackward0>)\n",
      "4500 tensor(0.6995, grad_fn=<DivBackward0>)\n",
      "4600 tensor(0.6975, grad_fn=<DivBackward0>)\n",
      "4700 tensor(0.6980, grad_fn=<DivBackward0>)\n",
      "4800 tensor(0.6967, grad_fn=<DivBackward0>)\n",
      "4900 tensor(0.6967, grad_fn=<DivBackward0>)\n",
      "5000 tensor(0.6971, grad_fn=<DivBackward0>)\n",
      "5100 tensor(0.6983, grad_fn=<DivBackward0>)\n",
      "5200 tensor(0.6984, grad_fn=<DivBackward0>)\n",
      "5300 tensor(0.6972, grad_fn=<DivBackward0>)\n",
      "5400 tensor(0.6983, grad_fn=<DivBackward0>)\n",
      "5500 tensor(0.7013, grad_fn=<DivBackward0>)\n",
      "5600 tensor(0.6960, grad_fn=<DivBackward0>)\n",
      "5700 tensor(0.6967, grad_fn=<DivBackward0>)\n",
      "5800 tensor(0.6990, grad_fn=<DivBackward0>)\n",
      "5900 tensor(0.6976, grad_fn=<DivBackward0>)\n",
      "6000 tensor(0.6967, grad_fn=<DivBackward0>)\n",
      "6100 tensor(0.6971, grad_fn=<DivBackward0>)\n",
      "6200 tensor(0.6968, grad_fn=<DivBackward0>)\n",
      "6300 tensor(0.6977, grad_fn=<DivBackward0>)\n",
      "6400 tensor(0.7002, grad_fn=<DivBackward0>)\n",
      "6500 tensor(0.6971, grad_fn=<DivBackward0>)\n",
      "6600 tensor(0.6988, grad_fn=<DivBackward0>)\n",
      "6700 tensor(0.6980, grad_fn=<DivBackward0>)\n",
      "6800 tensor(0.6986, grad_fn=<DivBackward0>)\n",
      "6900 tensor(0.6967, grad_fn=<DivBackward0>)\n",
      "7000 tensor(0.6980, grad_fn=<DivBackward0>)\n",
      "7100 tensor(0.6964, grad_fn=<DivBackward0>)\n",
      "7200 tensor(0.6988, grad_fn=<DivBackward0>)\n",
      "7300 tensor(0.6975, grad_fn=<DivBackward0>)\n",
      "7400 tensor(0.6980, grad_fn=<DivBackward0>)\n",
      "7500 tensor(0.6972, grad_fn=<DivBackward0>)\n",
      "7600 tensor(0.6973, grad_fn=<DivBackward0>)\n",
      "7700 tensor(0.6970, grad_fn=<DivBackward0>)\n",
      "7800 tensor(0.6967, grad_fn=<DivBackward0>)\n",
      "7900 tensor(0.6987, grad_fn=<DivBackward0>)\n",
      "8000 tensor(0.6995, grad_fn=<DivBackward0>)\n",
      "8100 tensor(0.7006, grad_fn=<DivBackward0>)\n",
      "8200 tensor(0.6979, grad_fn=<DivBackward0>)\n",
      "8300 tensor(0.6982, grad_fn=<DivBackward0>)\n",
      "8400 tensor(0.6970, grad_fn=<DivBackward0>)\n",
      "8500 tensor(0.6980, grad_fn=<DivBackward0>)\n",
      "8600 tensor(0.6962, grad_fn=<DivBackward0>)\n",
      "8700 tensor(0.6997, grad_fn=<DivBackward0>)\n",
      "8800 tensor(0.6969, grad_fn=<DivBackward0>)\n",
      "8900 tensor(0.6983, grad_fn=<DivBackward0>)\n",
      "9000 tensor(0.6977, grad_fn=<DivBackward0>)\n",
      "9100 tensor(0.6994, grad_fn=<DivBackward0>)\n",
      "9200 tensor(0.6955, grad_fn=<DivBackward0>)\n",
      "9300 tensor(0.6961, grad_fn=<DivBackward0>)\n",
      "9400 tensor(0.6977, grad_fn=<DivBackward0>)\n",
      "9500 tensor(0.6972, grad_fn=<DivBackward0>)\n",
      "9600 tensor(0.6965, grad_fn=<DivBackward0>)\n",
      "9700 tensor(0.6967, grad_fn=<DivBackward0>)\n",
      "9800 tensor(0.6971, grad_fn=<DivBackward0>)\n",
      "9900 tensor(0.6965, grad_fn=<DivBackward0>)\n"
     ]
    }
   ],
   "source": [
    "for index in range(epochs):\n",
    "    indices = torch.randperm(X_train_tensor.size(0))\n",
    "    \n",
    "    x_batch_list = torch.index_select(X_train_tensor, 0, index=indices)\n",
    "    y_batch_list = torch.index_select(X_train_tensor, 0, index=indices)\n",
    "    x_batch_list = x_batch_list.split(batch_size, 0)\n",
    "    y_batch_list = y_batch_list.split(batch_size, 0)\n",
    "    \n",
    "    epoch_loss = list()\n",
    "    \n",
    "    for x_minibatch, y_minibatch in zip(x_batch_list, y_batch_list):\n",
    "        y_minibatch_pred = model(x_minibatch)\n",
    "        \n",
    "        loss = torch.sqrt(loss_function(y_minibatch_pred, y_minibatch))\n",
    "        epoch_loss.append(loss)\n",
    "        \n",
    "        optimizer.zero_grad()\n",
    "        loss.backward()\n",
    "        optimizer.step()\n",
    "        \n",
    "    if (index % 100) == 0:\n",
    "        print(index, sum(epoch_loss) / len(epoch_loss))"
   ]
  },
  {
   "cell_type": "code",
   "execution_count": null,
   "id": "c5a742c1",
   "metadata": {},
   "outputs": [],
   "source": [
    "model.eval()\n",
    "with torch.no_grad():\n",
    "    y_test_pred = model(xb_test)"
   ]
  }
 ],
 "metadata": {
  "kernelspec": {
   "display_name": "Python 3 (ipykernel)",
   "language": "python",
   "name": "python3"
  },
  "language_info": {
   "codemirror_mode": {
    "name": "ipython",
    "version": 3
   },
   "file_extension": ".py",
   "mimetype": "text/x-python",
   "name": "python",
   "nbconvert_exporter": "python",
   "pygments_lexer": "ipython3",
   "version": "3.9.13"
  }
 },
 "nbformat": 4,
 "nbformat_minor": 5
}
